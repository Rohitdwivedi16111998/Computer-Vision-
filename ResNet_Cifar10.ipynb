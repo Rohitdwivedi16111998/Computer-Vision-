{
  "nbformat": 4,
  "nbformat_minor": 0,
  "metadata": {
    "colab": {
      "name": "ResNet_Cifar10.ipynb",
      "provenance": [],
      "authorship_tag": "ABX9TyPbtkgrbIJq/MIwnSbp7p7p",
      "include_colab_link": true
    },
    "kernelspec": {
      "name": "python3",
      "display_name": "Python 3"
    },
    "accelerator": "GPU"
  },
  "cells": [
    {
      "cell_type": "markdown",
      "metadata": {
        "id": "view-in-github",
        "colab_type": "text"
      },
      "source": [
        "<a href=\"https://colab.research.google.com/github/Rohitdwivedi16111998/Computer-Vision-/blob/master/ResNet_Cifar10.ipynb\" target=\"_parent\"><img src=\"https://colab.research.google.com/assets/colab-badge.svg\" alt=\"Open In Colab\"/></a>"
      ]
    },
    {
      "cell_type": "markdown",
      "metadata": {
        "id": "DANd74AAtEF-",
        "colab_type": "text"
      },
      "source": [
        "Importing Library"
      ]
    },
    {
      "cell_type": "code",
      "metadata": {
        "id": "sASopgtCZgsU",
        "colab_type": "code",
        "colab": {}
      },
      "source": [
        "import tensorflow as tf\n",
        "from tensorflow import keras\n",
        "from keras import applications\n",
        "from keras.utils import to_categorical\n",
        "from keras.models import Sequential\n",
        "from keras.layers import Conv2D, MaxPooling2D\n",
        "from keras.layers import Dense, Dropout, Flatten\n",
        "from keras import Model\n",
        "from keras.applications.resnet50 import ResNet50\n",
        "from keras.applications.resnet50 import preprocess_input"
      ],
      "execution_count": 38,
      "outputs": []
    },
    {
      "cell_type": "markdown",
      "metadata": {
        "id": "C3o6YK33tKSj",
        "colab_type": "text"
      },
      "source": [
        "Import the Dataset"
      ]
    },
    {
      "cell_type": "code",
      "metadata": {
        "id": "27iEjHCDZqE2",
        "colab_type": "code",
        "colab": {}
      },
      "source": [
        "(X_train, y_train), (X_test, y_test) = tf.keras.datasets.cifar10.load_data()"
      ],
      "execution_count": 41,
      "outputs": []
    },
    {
      "cell_type": "code",
      "metadata": {
        "id": "DE-UCoEWue_z",
        "colab_type": "code",
        "colab": {
          "base_uri": "https://localhost:8080/",
          "height": 87
        },
        "outputId": "6871cc0f-cdcc-485b-81db-c53d79505b22"
      },
      "source": [
        "print(X_train.shape)\n",
        "print(X_test.shape)\n",
        "print(y_train.shape)\n",
        "print(y_test.shape)"
      ],
      "execution_count": 42,
      "outputs": [
        {
          "output_type": "stream",
          "text": [
            "(50000, 32, 32, 3)\n",
            "(10000, 32, 32, 3)\n",
            "(50000, 1)\n",
            "(10000, 1)\n"
          ],
          "name": "stdout"
        }
      ]
    },
    {
      "cell_type": "markdown",
      "metadata": {
        "id": "qM-2DkTIu5eI",
        "colab_type": "text"
      },
      "source": [
        "There are total 50,000 images in the training and 10,000 are in the tesing. "
      ]
    },
    {
      "cell_type": "markdown",
      "metadata": {
        "id": "b9XHMa5Mu89h",
        "colab_type": "text"
      },
      "source": [
        "Convert the labels into categorical."
      ]
    },
    {
      "cell_type": "code",
      "metadata": {
        "id": "pCOA33_ateFZ",
        "colab_type": "code",
        "colab": {}
      },
      "source": [
        "y_train=to_categorical(y_train)\n",
        "y_test=to_categorical(y_test)"
      ],
      "execution_count": null,
      "outputs": []
    },
    {
      "cell_type": "markdown",
      "metadata": {
        "id": "GtYnwbrqtrjL",
        "colab_type": "text"
      },
      "source": [
        "Import the ResNet as Base Model"
      ]
    },
    {
      "cell_type": "markdown",
      "metadata": {
        "id": "Ns62-A-0t1KT",
        "colab_type": "text"
      },
      "source": [
        "We choose include_top = False when we have to customize the fully connected layers. We are using the weights of ImageNet and the input shape is 32X32X3 (Image_Height,Image_width,Channel). Choose channel = 1 when you have grey scale image. Define the total number of classes."
      ]
    },
    {
      "cell_type": "code",
      "metadata": {
        "id": "dA2XPO7rtsLN",
        "colab_type": "code",
        "colab": {}
      },
      "source": [
        "base_model = ResNet50(include_top=False,weights='imagenet',input_shape=(32,32,3),classes=y_train.shape[1])"
      ],
      "execution_count": null,
      "outputs": []
    },
    {
      "cell_type": "markdown",
      "metadata": {
        "id": "BxFmoiK4wDMf",
        "colab_type": "text"
      },
      "source": [
        "**MODEL 1: Without Dropout**"
      ]
    },
    {
      "cell_type": "markdown",
      "metadata": {
        "id": "35yHXPLWvCZ1",
        "colab_type": "text"
      },
      "source": [
        "Define the Model 1"
      ]
    },
    {
      "cell_type": "code",
      "metadata": {
        "id": "yUnNVGX2ZrzJ",
        "colab_type": "code",
        "colab": {}
      },
      "source": [
        "model_1= Sequential()\n",
        "model_1.add(base_model) \n",
        "model_1.add(Flatten())\n",
        "model_1.add(Dense(512,activation=('relu'),input_dim=2048))\n",
        "model_1.add(Dense(256,activation=('relu'))) \n",
        "model_1.add(Dense(512,activation=('relu'))) \n",
        "model_1.add(Dense(128,activation=('relu')))\n",
        "model_1.add(Dense(10,activation=('softmax')))"
      ],
      "execution_count": 3,
      "outputs": []
    },
    {
      "cell_type": "markdown",
      "metadata": {
        "id": "w3M3xOQuvHty",
        "colab_type": "text"
      },
      "source": [
        "Compile the model using optmizer and loss function"
      ]
    },
    {
      "cell_type": "code",
      "metadata": {
        "id": "_fGyFC74vNiD",
        "colab_type": "code",
        "colab": {}
      },
      "source": [
        "model_1.compile(optimizer='adam',loss='categorical_crossentropy',metrics=['accuracy'])"
      ],
      "execution_count": 43,
      "outputs": []
    },
    {
      "cell_type": "markdown",
      "metadata": {
        "id": "SEKEKNicvRPy",
        "colab_type": "text"
      },
      "source": [
        "Training Model 1"
      ]
    },
    {
      "cell_type": "code",
      "metadata": {
        "id": "XJan_NQ1ZuIy",
        "colab_type": "code",
        "colab": {
          "base_uri": "https://localhost:8080/",
          "height": 582
        },
        "outputId": "2750fb65-ef2e-428a-a8f8-8311d1b04205"
      },
      "source": [
        "history = model_1.fit(x_train,y_train,validation_data=(x_test,y_test),epochs=15,batch_size=100)"
      ],
      "execution_count": 22,
      "outputs": [
        {
          "output_type": "stream",
          "text": [
            "Epoch 1/15\n",
            "  2/500 [..............................] - ETA: 41s - loss: 0.1266 - accuracy: 0.9700WARNING:tensorflow:Callbacks method `on_train_batch_end` is slow compared to the batch time (batch time: 0.0264s vs `on_train_batch_end` time: 0.0700s). Check your callbacks.\n",
            "500/500 [==============================] - 32s 65ms/step - loss: 0.1032 - accuracy: 0.9671 - val_loss: 0.9440 - val_accuracy: 0.7895\n",
            "Epoch 2/15\n",
            "500/500 [==============================] - 31s 62ms/step - loss: 0.1144 - accuracy: 0.9656 - val_loss: 1.1021 - val_accuracy: 0.7552\n",
            "Epoch 3/15\n",
            "500/500 [==============================] - 31s 61ms/step - loss: 0.0817 - accuracy: 0.9749 - val_loss: 1.1681 - val_accuracy: 0.7738\n",
            "Epoch 4/15\n",
            "500/500 [==============================] - 31s 62ms/step - loss: 0.0704 - accuracy: 0.9772 - val_loss: 1.1655 - val_accuracy: 0.7761\n",
            "Epoch 5/15\n",
            "500/500 [==============================] - 31s 62ms/step - loss: 0.0669 - accuracy: 0.9789 - val_loss: 1.1337 - val_accuracy: 0.8026\n",
            "Epoch 6/15\n",
            "500/500 [==============================] - 31s 62ms/step - loss: 0.0666 - accuracy: 0.9807 - val_loss: 1.0622 - val_accuracy: 0.7743\n",
            "Epoch 7/15\n",
            "500/500 [==============================] - 31s 62ms/step - loss: 0.0675 - accuracy: 0.9801 - val_loss: 1.1120 - val_accuracy: 0.7926\n",
            "Epoch 8/15\n",
            "500/500 [==============================] - 31s 62ms/step - loss: 0.0535 - accuracy: 0.9837 - val_loss: 1.1606 - val_accuracy: 0.7853\n",
            "Epoch 9/15\n",
            "500/500 [==============================] - 31s 62ms/step - loss: 0.0584 - accuracy: 0.9826 - val_loss: 1.0134 - val_accuracy: 0.7860\n",
            "Epoch 10/15\n",
            "500/500 [==============================] - 31s 61ms/step - loss: 0.0845 - accuracy: 0.9772 - val_loss: 1.1071 - val_accuracy: 0.7805\n",
            "Epoch 11/15\n",
            "500/500 [==============================] - 31s 61ms/step - loss: 0.0515 - accuracy: 0.9842 - val_loss: 1.1384 - val_accuracy: 0.7833\n",
            "Epoch 12/15\n",
            "500/500 [==============================] - 31s 62ms/step - loss: 0.0450 - accuracy: 0.9867 - val_loss: 1.1323 - val_accuracy: 0.8094\n",
            "Epoch 13/15\n",
            "500/500 [==============================] - 31s 62ms/step - loss: 0.0519 - accuracy: 0.9850 - val_loss: 1.3547 - val_accuracy: 0.7398\n",
            "Epoch 14/15\n",
            "500/500 [==============================] - 31s 62ms/step - loss: 0.2422 - accuracy: 0.9301 - val_loss: 0.9944 - val_accuracy: 0.7745\n",
            "Epoch 15/15\n",
            "500/500 [==============================] - 31s 62ms/step - loss: 0.0606 - accuracy: 0.9811 - val_loss: 0.9752 - val_accuracy: 0.8079\n"
          ],
          "name": "stdout"
        }
      ]
    },
    {
      "cell_type": "markdown",
      "metadata": {
        "id": "34FUbVNYvU7u",
        "colab_type": "text"
      },
      "source": [
        "Loss and Accuracy"
      ]
    },
    {
      "cell_type": "code",
      "metadata": {
        "id": "F0GBqStCZzYg",
        "colab_type": "code",
        "colab": {
          "base_uri": "https://localhost:8080/",
          "height": 122
        },
        "outputId": "4b194bc1-18f1-4bc5-f8cd-8a3bd2e82451"
      },
      "source": [
        "print(\"\\nTraining Loss and Accuracy: \",model_1.evaluate(x_train,y_train))\n",
        "print(\"\\nTesting Loss and Accuracy: \",model_1.evaluate(x_test,y_test))"
      ],
      "execution_count": 23,
      "outputs": [
        {
          "output_type": "stream",
          "text": [
            "1563/1563 [==============================] - 15s 10ms/step - loss: 0.0327 - accuracy: 0.9893\n",
            "\n",
            "Training Loss and Accuracy:  [0.032729241997003555, 0.9892600178718567]\n",
            "313/313 [==============================] - 3s 10ms/step - loss: 0.9752 - accuracy: 0.8079\n",
            "\n",
            "Testing Loss and Accuracy:  [0.9752122163772583, 0.8079000115394592]\n"
          ],
          "name": "stdout"
        }
      ]
    },
    {
      "cell_type": "code",
      "metadata": {
        "id": "R2yBDaOghjaQ",
        "colab_type": "code",
        "colab": {
          "base_uri": "https://localhost:8080/",
          "height": 34
        },
        "outputId": "01617cc3-2233-43a1-f962-e7924c533fac"
      },
      "source": [
        "history.history.keys()"
      ],
      "execution_count": 25,
      "outputs": [
        {
          "output_type": "execute_result",
          "data": {
            "text/plain": [
              "dict_keys(['loss', 'accuracy', 'val_loss', 'val_accuracy'])"
            ]
          },
          "metadata": {
            "tags": []
          },
          "execution_count": 25
        }
      ]
    },
    {
      "cell_type": "markdown",
      "metadata": {
        "id": "-BsVPxCIvfVT",
        "colab_type": "text"
      },
      "source": [
        "Graph for Accuracy and Loss for Model 1"
      ]
    },
    {
      "cell_type": "code",
      "metadata": {
        "id": "frPGMIl-kL6V",
        "colab_type": "code",
        "colab": {
          "base_uri": "https://localhost:8080/",
          "height": 573
        },
        "outputId": "d2902c33-239d-4d8d-cc21-a30d5853cf6f"
      },
      "source": [
        "import matplotlib.pyplot as plt\n",
        "\n",
        "plt.plot(history.history['loss'])\n",
        "plt.plot(history.history['val_loss'])\n",
        "plt.title('model loss')\n",
        "plt.ylabel('Loss')\n",
        "plt.xlabel('Epoch')\n",
        "plt.legend(['Training', 'Testing'], loc='upper left')\n",
        "plt.show()\n",
        "plt.plot(history.history['accuracy'])\n",
        "plt.plot(history.history['val_accuracy'])\n",
        "plt.title('model accuracy')\n",
        "plt.ylabel('Accuracy')\n",
        "plt.xlabel('Epoch')\n",
        "plt.legend(['Training', 'Testing'], loc='upper left')\n",
        "plt.show()"
      ],
      "execution_count": 28,
      "outputs": [
        {
          "output_type": "display_data",
          "data": {
            "image/png": "[encoded data removed]",
            "text/plain": [
              "<Figure size 432x288 with 1 Axes>"
            ]
          },
          "metadata": {
            "tags": [],
            "needs_background": "light"
          }
        },
        {
          "output_type": "display_data",
          "data": {
            "image/png": "[encoded data removed]",
            "text/plain": [
              "<Figure size 432x288 with 1 Axes>"
            ]
          },
          "metadata": {
            "tags": [],
            "needs_background": "light"
          }
        }
      ]
    },
    {
      "cell_type": "markdown",
      "metadata": {
        "id": "0F34aMk-wJsy",
        "colab_type": "text"
      },
      "source": [
        "**MODEL 1: With Dropout**"
      ]
    },
    {
      "cell_type": "markdown",
      "metadata": {
        "id": "0Y13TuEzvjgb",
        "colab_type": "text"
      },
      "source": [
        "Define the Model 2"
      ]
    },
    {
      "cell_type": "code",
      "metadata": {
        "id": "HdLPqGfbekmd",
        "colab_type": "code",
        "colab": {}
      },
      "source": [
        "model_2= Sequential()\n",
        "model_2.add(base_model) \n",
        "model_2.add(Flatten())\n",
        "model_2.add(Dense(512,activation=('relu'),input_dim=2048))\n",
        "model_2.add(Dropout(0.3))\n",
        "model_2.add(Dense(256,activation=('relu'))) \n",
        "model_2.add(Dense(512,activation=('relu'))) \n",
        "model_2.add(Dropout(0.3))\n",
        "model_2.add(Dense(128,activation=('relu')))\n",
        "model_2.add(Dense(10,activation=('softmax')))"
      ],
      "execution_count": 33,
      "outputs": []
    },
    {
      "cell_type": "markdown",
      "metadata": {
        "id": "hM-nn8XUvphj",
        "colab_type": "text"
      },
      "source": [
        "Compile the model 2 using optmizer and loss function.You can also use different optimzer and loss function as well."
      ]
    },
    {
      "cell_type": "code",
      "metadata": {
        "id": "GjKUAwu4vn-r",
        "colab_type": "code",
        "colab": {}
      },
      "source": [
        "model_2.compile(optimizer='adam',loss='categorical_crossentropy',metrics=['accuracy'])"
      ],
      "execution_count": 44,
      "outputs": []
    },
    {
      "cell_type": "code",
      "metadata": {
        "id": "82mXdyKyePmC",
        "colab_type": "code",
        "colab": {
          "base_uri": "https://localhost:8080/",
          "height": 600
        },
        "outputId": "58b26aa6-4a91-41a9-afc7-104752ff6717"
      },
      "source": [
        "history = model_2.fit(x_train,y_train,validation_data=(x_test,y_test),epochs=15,batch_size=100)"
      ],
      "execution_count": 34,
      "outputs": [
        {
          "output_type": "stream",
          "text": [
            "Epoch 1/15\n",
            "  2/500 [..............................] - ETA: 40s - loss: 2.2751 - accuracy: 0.2350WARNING:tensorflow:Callbacks method `on_train_batch_end` is slow compared to the batch time (batch time: 0.0281s vs `on_train_batch_end` time: 0.0650s). Check your callbacks.\n",
            "500/500 [==============================] - ETA: 0s - loss: 0.0896 - accuracy: 0.9808WARNING:tensorflow:Callbacks method `on_test_batch_end` is slow compared to the batch time (batch time: 0.0047s vs `on_test_batch_end` time: 0.0073s). Check your callbacks.\n",
            "500/500 [==============================] - 32s 64ms/step - loss: 0.0896 - accuracy: 0.9808 - val_loss: 1.3737 - val_accuracy: 0.7536\n",
            "Epoch 2/15\n",
            "500/500 [==============================] - 31s 62ms/step - loss: 0.0699 - accuracy: 0.9868 - val_loss: 2.0239 - val_accuracy: 0.7792\n",
            "Epoch 3/15\n",
            "500/500 [==============================] - 31s 61ms/step - loss: 0.4364 - accuracy: 0.9163 - val_loss: 0.8917 - val_accuracy: 0.7874\n",
            "Epoch 4/15\n",
            "500/500 [==============================] - 31s 62ms/step - loss: 0.0647 - accuracy: 0.9817 - val_loss: 1.0780 - val_accuracy: 0.8056\n",
            "Epoch 5/15\n",
            "500/500 [==============================] - 31s 61ms/step - loss: 0.0218 - accuracy: 0.9944 - val_loss: 1.1513 - val_accuracy: 0.8023\n",
            "Epoch 6/15\n",
            "500/500 [==============================] - 31s 61ms/step - loss: 0.0210 - accuracy: 0.9944 - val_loss: 1.2882 - val_accuracy: 0.7858\n",
            "Epoch 7/15\n",
            "500/500 [==============================] - 31s 61ms/step - loss: 0.0242 - accuracy: 0.9938 - val_loss: 1.2101 - val_accuracy: 0.8088\n",
            "Epoch 8/15\n",
            "500/500 [==============================] - 31s 61ms/step - loss: 0.0275 - accuracy: 0.9928 - val_loss: 1.2281 - val_accuracy: 0.7944\n",
            "Epoch 9/15\n",
            "500/500 [==============================] - 31s 61ms/step - loss: 0.0351 - accuracy: 0.9915 - val_loss: 1.1746 - val_accuracy: 0.7825\n",
            "Epoch 10/15\n",
            "500/500 [==============================] - 31s 61ms/step - loss: 0.0322 - accuracy: 0.9914 - val_loss: 1.2138 - val_accuracy: 0.8106\n",
            "Epoch 11/15\n",
            "500/500 [==============================] - 31s 62ms/step - loss: 0.0641 - accuracy: 0.9835 - val_loss: 1.2797 - val_accuracy: 0.7938\n",
            "Epoch 12/15\n",
            "500/500 [==============================] - 31s 62ms/step - loss: 0.0371 - accuracy: 0.9904 - val_loss: 1.4211 - val_accuracy: 0.7813\n",
            "Epoch 13/15\n",
            "500/500 [==============================] - 31s 61ms/step - loss: 0.0971 - accuracy: 0.9749 - val_loss: 1.1977 - val_accuracy: 0.7970\n",
            "Epoch 14/15\n",
            "500/500 [==============================] - 31s 61ms/step - loss: 0.0709 - accuracy: 0.9808 - val_loss: 1.3239 - val_accuracy: 0.7975\n",
            "Epoch 15/15\n",
            "500/500 [==============================] - 31s 61ms/step - loss: 0.0253 - accuracy: 0.9930 - val_loss: 1.5790 - val_accuracy: 0.7450\n"
          ],
          "name": "stdout"
        }
      ]
    },
    {
      "cell_type": "markdown",
      "metadata": {
        "id": "2Ro9DRX5v4aO",
        "colab_type": "text"
      },
      "source": [
        "Loss and Accuracy for Model 2"
      ]
    },
    {
      "cell_type": "code",
      "metadata": {
        "id": "bqiWNszkexUI",
        "colab_type": "code",
        "colab": {
          "base_uri": "https://localhost:8080/",
          "height": 122
        },
        "outputId": "9a624e2d-b4b1-418f-ac62-2fa472debdeb"
      },
      "source": [
        "print(\"\\nTraining Loss and Accuracy: \",model_2.evaluate(x_train,y_train))\n",
        "print(\"\\nTesting Loss and Accuracy: \",model_2.evaluate(x_test,y_test))"
      ],
      "execution_count": 36,
      "outputs": [
        {
          "output_type": "stream",
          "text": [
            "1563/1563 [==============================] - 15s 10ms/step - loss: 0.3826 - accuracy: 0.9231\n",
            "\n",
            "Training Loss and Accuracy:  [0.38256341218948364, 0.9230800271034241]\n",
            "313/313 [==============================] - 3s 10ms/step - loss: 1.5790 - accuracy: 0.7450\n",
            "\n",
            "Testing Loss and Accuracy:  [1.5789844989776611, 0.7450000047683716]\n"
          ],
          "name": "stdout"
        }
      ]
    },
    {
      "cell_type": "markdown",
      "metadata": {
        "id": "rkoe63ZJv9xk",
        "colab_type": "text"
      },
      "source": [
        "Graph of loss and accuracy for Model 2"
      ]
    },
    {
      "cell_type": "code",
      "metadata": {
        "id": "yCQIOOcngoJI",
        "colab_type": "code",
        "colab": {
          "base_uri": "https://localhost:8080/",
          "height": 573
        },
        "outputId": "076f83ce-1cf5-4fe2-9bf4-a2dcdd2dc575"
      },
      "source": [
        "import matplotlib.pyplot as plt\n",
        "\n",
        "plt.plot(history.history['loss'])\n",
        "plt.plot(history.history['val_loss'])\n",
        "plt.title('model loss')\n",
        "plt.ylabel('Loss')\n",
        "plt.xlabel('Epoch')\n",
        "plt.legend(['Training', 'Testing'], loc='upper left')\n",
        "plt.show()\n",
        "plt.plot(history.history['accuracy'])\n",
        "plt.plot(history.history['val_accuracy'])\n",
        "plt.title('model accuracy')\n",
        "plt.ylabel('Accuracy')\n",
        "plt.xlabel('Epoch')\n",
        "plt.legend(['Training', 'Testing'], loc='upper left')\n",
        "plt.show()"
      ],
      "execution_count": 37,
      "outputs": [
        {
          "output_type": "display_data",
          "data": {
            "image/png": "[encoded data removed]",
            "text/plain": [
              "<Figure size 432x288 with 1 Axes>"
            ]
          },
          "metadata": {
            "tags": [],
            "needs_background": "light"
          }
        },
        {
          "output_type": "display_data",
          "data": {
            "image/png": "[encoded data removed]",
            "text/plain": [
              "<Figure size 432x288 with 1 Axes>"
            ]
          },
          "metadata": {
            "tags": [],
            "needs_background": "light"
          }
        }
      ]
    },
    {
      "cell_type": "markdown",
      "metadata": {
        "id": "VZM8ymQqwL4Q",
        "colab_type": "text"
      },
      "source": [
        ""
      ]
    },
    {
      "cell_type": "code",
      "metadata": {
        "id": "ckOrNfBBs2sI",
        "colab_type": "code",
        "colab": {}
      },
      "source": [
        ""
      ],
      "execution_count": null,
      "outputs": []
    }
  ]
}